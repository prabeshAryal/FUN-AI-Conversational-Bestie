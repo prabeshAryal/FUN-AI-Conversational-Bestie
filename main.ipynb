{
 "cells": [
  {
   "cell_type": "code",
   "execution_count": null,
   "metadata": {},
   "outputs": [],
   "source": [
    "import requests\n",
    "import json\n",
    "import speech_recognition as sr\n",
    "import pyttsx3  # For text-to-speech\n"
   ]
  },
  {
   "cell_type": "code",
   "execution_count": 10,
   "metadata": {},
   "outputs": [],
   "source": [
    "def transcribe_audio():\n",
    "    \"\"\"Transcribes audio from the microphone using SpeechRecognition.\"\"\"\n",
    "    recognizer = sr.Recognizer()\n",
    "    with sr.Microphone() as source:\n",
    "        print(\"Say something!\")\n",
    "        recognizer.adjust_for_ambient_noise(source)  # Calibrate microphone\n",
    "        audio = recognizer.listen(source)\n",
    "\n",
    "    try:\n",
    "        text = recognizer.recognize_google(audio)\n",
    "        print(f\"You said: {text}\")\n",
    "        return text\n",
    "    except sr.UnknownValueError:\n",
    "        print(\"Could not understand audio\")\n",
    "        return None\n",
    "    except sr.RequestError as e:\n",
    "        print(f\"Could not request results from Google Speech Recognition service; {e}\")\n",
    "        return None\n"
   ]
  },
  {
   "cell_type": "code",
   "execution_count": 16,
   "metadata": {},
   "outputs": [
    {
     "name": "stdout",
     "output_type": "stream",
     "text": [
      "Say something!\n",
      "You said: game is so bad\n"
     ]
    },
    {
     "data": {
      "text/plain": [
       "'game is so bad'"
      ]
     },
     "execution_count": 16,
     "metadata": {},
     "output_type": "execute_result"
    }
   ],
   "source": [
    "transcribe_audio()"
   ]
  },
  {
   "cell_type": "code",
   "execution_count": 17,
   "metadata": {},
   "outputs": [],
   "source": [
    "def generate_content_with_gemini(api_key, prompt):\n",
    "    \"\"\"Generates content using the Gemini API.\"\"\"\n",
    "\n",
    "    url = f\"https://generativelanguage.googleapis.com/v1beta/models/gemini-2.0-flash:generateContent?key={api_key}\"\n",
    "\n",
    "    headers = {\"Content-Type\": \"application/json\"}\n",
    "\n",
    "    data = {\"contents\": [{\"parts\": [{\"text\": prompt}]}]}\n",
    "\n",
    "    try:\n",
    "        response = requests.post(url, headers=headers, data=json.dumps(data))\n",
    "        response.raise_for_status()\n",
    "        response_json = response.json()\n",
    "\n",
    "        if \"candidates\" in response_json and response_json[\"candidates\"]:\n",
    "            if (\n",
    "                \"content\" in response_json[\"candidates\"][0]\n",
    "                and \"parts\" in response_json[\"candidates\"][0][\"content\"]\n",
    "            ):\n",
    "                generated_text = response_json[\"candidates\"][0][\"content\"][\"parts\"][0][\n",
    "                    \"text\"\n",
    "                ]\n",
    "                return generated_text\n",
    "            else:\n",
    "                print(\"Error: 'content' or 'parts' not found in response.\")\n",
    "                return None\n",
    "        else:\n",
    "            print(\"Error: 'candidates' not found in response.\")\n",
    "            return None\n",
    "\n",
    "    except requests.exceptions.RequestException as e:\n",
    "        print(f\"Request failed: {e}\")\n",
    "        return None\n",
    "    except json.JSONDecodeError as e:\n",
    "        print(f\"JSON decoding error: {e}\")\n",
    "        print(f\"Response text: {response.text}\")\n",
    "        return None\n"
   ]
  },
  {
   "cell_type": "code",
   "execution_count": 18,
   "metadata": {},
   "outputs": [],
   "source": [
    "def speak(text):\n",
    "    \"\"\"Speaks the given text using pyttsx3.\"\"\"\n",
    "    engine = pyttsx3.init()\n",
    "    engine.say(text)\n",
    "    engine.runAndWait()\n"
   ]
  },
  {
   "cell_type": "code",
   "execution_count": null,
   "metadata": {},
   "outputs": [
    {
     "name": "stdout",
     "output_type": "stream",
     "text": [
      "Say something!\n",
      "You said: what is the capital of Nepal\n",
      "Generated Text:\n",
      "The capital of Nepal is **Kathmandu**.\n",
      "\n"
     ]
    }
   ],
   "source": [
    "# Main execution\n",
    "if __name__ == \"__main__\":\n",
    "    api_key = \"your_api_here\"  # Replace with your API key\n",
    "\n",
    "    # 1. Get voice input:\n",
    "    voice_prompt = transcribe_audio()\n",
    "\n",
    "    if voice_prompt:\n",
    "        # 2. Generate content using Gemini:\n",
    "        generated_text = generate_content_with_gemini(api_key, voice_prompt)\n",
    "\n",
    "        if generated_text:\n",
    "            # 3. Output the generated text:\n",
    "            print(\"Generated Text:\")\n",
    "            print(generated_text)\n",
    "\n",
    "            # 4. Speak the generated text:\n",
    "            speak(generated_text)  # Use text-to-speech\n",
    "        else:\n",
    "            print(\"Failed to generate content.\")\n",
    "    else:\n",
    "        print(\"No voice input received.\")\n"
   ]
  }
 ],
 "metadata": {
  "kernelspec": {
   "display_name": "base",
   "language": "python",
   "name": "python3"
  },
  "language_info": {
   "codemirror_mode": {
    "name": "ipython",
    "version": 3
   },
   "file_extension": ".py",
   "mimetype": "text/x-python",
   "name": "python",
   "nbconvert_exporter": "python",
   "pygments_lexer": "ipython3",
   "version": "3.12.7"
  }
 },
 "nbformat": 4,
 "nbformat_minor": 2
}
